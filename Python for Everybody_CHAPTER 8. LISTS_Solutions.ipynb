{
 "cells": [
  {
   "cell_type": "markdown",
   "metadata": {},
   "source": [
    "# Python for Everybody - Exploring Data Using Python 3\n",
    "Dr. Charles R. Severance \n",
    "<br>Solutions to CHAPTER 8. LISTS\n",
    "<br>2022\n",
    "<br>https://github.com/AlexisDir\n"
   ]
  },
  {
   "cell_type": "markdown",
   "metadata": {},
   "source": [
    "## Exercise 1a, p. 101:\n",
    "\"Write a function called chop that takes a list and modifies it, removing the first\n",
    "and last elements, and returns None\"...\n",
    "<br>"
   ]
  },
  {
   "cell_type": "code",
   "execution_count": 209,
   "metadata": {
    "scrolled": true
   },
   "outputs": [
    {
     "name": "stdout",
     "output_type": "stream",
     "text": [
      "None\n"
     ]
    }
   ],
   "source": [
    "# Write your code here:\n",
    "t = [\"Chien\", 2, \"Titi\", \"Chat\"]\n",
    "def chop(t):\n",
    "    t = t[1:-1]\n",
    "    return None\n",
    "print(chop(t))"
   ]
  },
  {
   "cell_type": "markdown",
   "metadata": {},
   "source": [
    "## Exercise 1b, p. 101:\n",
    "...\"Then write a function called middle that takes a list and returns a new list that\n",
    "contains all but the first and last elements.\""
   ]
  },
  {
   "cell_type": "code",
   "execution_count": null,
   "metadata": {
    "scrolled": true
   },
   "outputs": [],
   "source": [
    "# Write your code here:\n",
    "liste = [\"Chien\", 2, \"Titi\", \"Chat\"]\n",
    "def middle():\n",
    "    nouvelle_liste = liste[1:-1]\n",
    "    return print(\"Nouvelle liste =\", nouvelle_liste)\n",
    "middle()"
   ]
  },
  {
   "cell_type": "markdown",
   "metadata": {},
   "source": [
    "## Exercise 2, 8.15., p.105: \n",
    "\"Figure out which line of the above program is still not\n",
    "properly guarded. See if you can construct a text file which causes the\n",
    "program to fail and then modify the program so that the line is properly\n",
    "guarded and test it to make sure it handles your new text file.\"\n",
    "\n",
    "\n",
    "### \"the above program\":\n",
    "```\n",
    "fhand = open('mbox-short.txt')\n",
    "count = 0\n",
    "for line in fhand:\n",
    "    words = line.split()\n",
    "    # print('Debug:', words)\n",
    "    if len(words) == 0 : continue\n",
    "    if words[0] != 'From' : continue\n",
    "    print(words[2])\n",
    "```"
   ]
  },
  {
   "cell_type": "code",
   "execution_count": null,
   "metadata": {},
   "outputs": [],
   "source": [
    "# Write your code here:\n",
    "fhand = open('mbox-short_2.txt')\n",
    "count = 0\n",
    "for line in fhand:\n",
    "    words = line.split()\n",
    "    # print('Debug:', words)\n",
    "    if len(words) == 0 : continue\n",
    "    if words[0] != 'From' : continue\n",
    "    if \"@\" not in words[1]: continue\n",
    "    print(words[2])"
   ]
  },
  {
   "cell_type": "markdown",
   "metadata": {},
   "source": [
    "## Exercise 3, 8.15., p.105: \n",
    "Exercise 3: Rewrite the guardian code in the above example without\n",
    "two if statements. Instead, use a compound logical expression using\n",
    "the or logical operator with a single if statement."
   ]
  },
  {
   "cell_type": "code",
   "execution_count": 9,
   "metadata": {},
   "outputs": [],
   "source": [
    "# Write your code here:\n",
    "fhand = open('mbox-short_2.txt')\n",
    "count = 0\n",
    "for line in fhand:\n",
    "    words = line.split()\n",
    "    # print('Debug:', words)\n",
    "    if len(words) == 0 or words[0] != 'From' or \"@\" not in words[1]: continue\n",
    "    print(words[2])"
   ]
  },
  {
   "cell_type": "markdown",
   "metadata": {},
   "source": [
    "## Exercise 4, 8.16, p.105: \n",
    "Find all unique words in a file Shakespeare used over 20,000 words in his works. But how would you\n",
    "determine that? How would you produce the list of all the words that Shakespeare used? Would you download all \n",
    "his work, read it and track all unique words by hand? Let’s use Python to achieve that instead. List all unique \n",
    "words, sorted in alphabetical order, that are stored in a file romeo.txt containing a subset of Shakespeare’s work.\n",
    "\n",
    "To get started, download a copy of the file www.py4e.com/code3/romeo.txt.\n",
    "\n",
    "Create a list of unique words, which will contain the final result. Write a program to open the file romeo.txt and read it line by line. For each line, split the line into a list of words using the split function. For each word, check to see if the word is already in the list of unique words. If the word is not in the list of unique words, add it to the list.\n",
    "When the program completes, sort and print the list of unique words in alphabetical order.\n",
    "Enter file: romeo.txt\n",
    "\n",
    "['Arise', 'But', 'It', 'Juliet', 'Who', 'already', 'and', 'breaks', 'east', 'envious', 'fair', 'grief',\n",
    "'is', 'kill', 'light', 'moon', 'pale', 'sick', 'soft','sun', 'the', 'through', 'what', 'window',\n",
    "'with', 'yonder']"
   ]
  },
  {
   "cell_type": "code",
   "execution_count": 4,
   "metadata": {},
   "outputs": [],
   "source": [
    "# Write your code here:\n",
    "fh = open('romeo.txt')\n",
    "lst = list()\n",
    "for line in fh:\n",
    "    line = line.split()\n",
    "    for words in line:\n",
    "# Afin d'éviter que le même mot ne soit intégré plusieurs fois à la liste:\n",
    "        if words not in lst:\n",
    "            lst.append(words)\n",
    "lst.sort()\n",
    "lst"
   ]
  },
  {
   "cell_type": "markdown",
   "metadata": {},
   "source": [
    "## Exercise 5, p.106: \n",
    "Minimalist Email Client. p.106\n",
    "MBOX (mail box) is a popular file format to store and share a collection\n",
    "of emails. This was used by early email servers and desktop apps.\n",
    "Without getting into too many details, MBOX is a text file, which\n",
    "stores emails consecutively. Emails are separated by a special line which\n",
    "starts with From (notice the space). Importantly, lines starting with\n",
    "From: (notice the colon) describes the email itself and does not act as\n",
    "a separator. \n",
    "<br>Imagine you wrote a minimalist email app, that lists the\n",
    "email of the senders in the user’s Inbox and counts the number of emails.\n",
    "Write a program to read through the mail box data and when you find\n",
    "line that starts with “From”, you will split the line into words using the\n",
    "split function. We are interested in who sent the message, which is the\n",
    "second word on the From line.\n",
    "<br>From stephen.marquard@uct.ac.za Sat Jan 5 09:14:16 2008\n",
    "You will parse the From line and print out the second word for each\n",
    "From line, then you will also count the number of From (not From:)\n",
    "lines and print out a count at the end. This is a good sample output\n",
    "with a few lines removed:\n",
    "<br>python fromcount.py\n",
    "<br>Enter a file name: mbox-short.txt\n",
    "<br>stephen.marquard@uct.ac.za\n",
    "<br>louis@media.berkeley.edu\n",
    "<br>zqian@umich.edu\n",
    "<br>[...some output removed...]\n",
    "<br>ray@media.berkeley.edu\n",
    "<br>cwen@iupui.edu\n",
    "<br>cwen@iupui.edu\n",
    "<br>cwen@iupui.edu\n",
    "<br>There were 27 lines in the file with From as the first word"
   ]
  },
  {
   "cell_type": "code",
   "execution_count": 5,
   "metadata": {},
   "outputs": [],
   "source": [
    "# Write your code here:\n",
    "fh = open('mbox-short.txt')\n",
    "lst = list()\n",
    "count = 0\n",
    "for line in fh:\n",
    "    if not line.startswith('From '): continue\n",
    "    line = line.split()\n",
    "    line = line[1]\n",
    "    count = count + 1\n",
    "    print(line)\n",
    "print(\"There were\", count, \"lines in the file with From as the first word\")"
   ]
  },
  {
   "cell_type": "code",
   "execution_count": null,
   "metadata": {},
   "outputs": [],
   "source": [
    "# Other possible solution:\n",
    "fhand=open('mbox-short.txt')\n",
    "lst=[]\n",
    "x = 0\n",
    "for line in fhand:\n",
    "    words=line.split()\n",
    "    if len(words) == 0: continue\n",
    "    if not line.startswith('From '): continue #if not line.startswith('From '): continue\n",
    "#    if words[1] in lst: continue\n",
    "    lst.append(words[1])\n",
    "    x = x + 1\n",
    "\n",
    "lst.sort()\n",
    "print(\"Liste d'expéditeurs:\", lst, \"\\nNombre d'expéditeurs:\", x)"
   ]
  },
  {
   "cell_type": "markdown",
   "metadata": {},
   "source": [
    "## Exercice 6, 8.16., p.106:\n",
    "Exercise 6: Rewrite the program that prompts the user for a list of\n",
    "numbers and prints out the maximum and minimum of the numbers at\n",
    "the end when the user enters “done”. Write the program to store the\n",
    "numbers the user enters in a list and use the max() and min() functions to\n",
    "compute the maximum and minimum numbers after the loop completes.\n",
    "<br>Enter a number: 6\n",
    "<br>Enter a number: 2\n",
    "<br>Enter a number: 9\n",
    "<br>Enter a number: 3\n",
    "<br>Enter a number: 5\n",
    "<br>Enter a number: done\n",
    "<br>Maximum: 9.0\n",
    "<br>Minimum: 2.0\n",
    "\n",
    "=========================\n",
    "\n",
    "Program to rewrite (p.96-97): \n",
    "\n",
    "```\n",
    "numlist = list()\n",
    "while (True):\n",
    "    inp = input('Enter a number: ')\n",
    "    if inp == 'done': break\n",
    "    value = float(inp)\n",
    "    numlist.append(value)\n",
    "average = sum(numlist) / len(numlist)\n",
    "print('Average:', average)\n",
    "```"
   ]
  },
  {
   "cell_type": "code",
   "execution_count": 6,
   "metadata": {},
   "outputs": [],
   "source": [
    "# Write your code here:\n",
    "lst=[]\n",
    "while True:\n",
    "    number=input(\"Enter a number:\")\n",
    "    try:\n",
    "        number == float(number)\n",
    "        lst.append(number)\n",
    "    except:\n",
    "        if number == \"done\": break\n",
    "        else:\n",
    "            print(\"Please enter a correct number.\")\n",
    "print(\"Maximum:\", float(max(lst)))\n",
    "print(\"Minium:\", float(min(lst)))"
   ]
  }
 ],
 "metadata": {
  "kernelspec": {
   "display_name": "Python 3 (ipykernel)",
   "language": "python",
   "name": "python3"
  },
  "language_info": {
   "codemirror_mode": {
    "name": "ipython",
    "version": 3
   },
   "file_extension": ".py",
   "mimetype": "text/x-python",
   "name": "python",
   "nbconvert_exporter": "python",
   "pygments_lexer": "ipython3",
   "version": "3.9.12"
  }
 },
 "nbformat": 4,
 "nbformat_minor": 4
}
