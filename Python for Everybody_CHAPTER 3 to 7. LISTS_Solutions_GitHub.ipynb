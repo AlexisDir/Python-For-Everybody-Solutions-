{
 "cells": [
  {
   "cell_type": "markdown",
   "metadata": {},
   "source": [
    "# Python for Everybody - Exploring Data Using Python 3\n",
    "By Dr. Charles R. Severance \n",
    "<br>Solutions to CHAPTER 3 to 7 by Alexis Dir\n",
    "<br>2022\n",
    "<br>https://github.com/AlexisDir\n",
    "\n"
   ]
  },
  {
   "cell_type": "code",
   "execution_count": null,
   "metadata": {},
   "outputs": [],
   "source": [
    "#Exercise 3.11  p. 40\n",
    "\n",
    "hours=int(input('Enter Hours\\n'))\n",
    "rate=int(input('Enter Rate\\n'))\n",
    "if hours>=40:\n",
    "    extrahours=hours-40\n",
    "    extrapay=int(extrahours)*(rate*1.5)\n",
    "    normalpay=rate*40\n",
    "    pay=normalpay+extrapay\n",
    "else:\n",
    "    pay=hours*rate\n",
    "print(\"Your pay is:\\n\", pay,'€')"
   ]
  },
  {
   "cell_type": "code",
   "execution_count": null,
   "metadata": {},
   "outputs": [],
   "source": [
    "#Exercise 3.11  p. 40\n",
    "\n",
    "hours=input('Enter Hours\\n')\n",
    "rate=input('Enter Rate\\n')\n",
    "\n",
    "try:\n",
    "    int_hours=int(hours)\n",
    "    int_rate=int(rate)\n",
    "    if int_hours>40:\n",
    "        extrahours=int_hours-40\n",
    "        extrapay=int(extrahours)*(int_rate*1.5)\n",
    "        normalpay=int_rate*40\n",
    "        pay=normalpay+extrapay\n",
    "        print(\"Your pay is:\\n\", pay,'€')\n",
    "\n",
    "    else:\n",
    "        pay=int_hours*int_rate\n",
    "        print(\"Your pay is:\\n\", pay,'€')\n",
    "except:\n",
    "    print('Please enter numeric input')"
   ]
  },
  {
   "cell_type": "code",
   "execution_count": null,
   "metadata": {},
   "outputs": [],
   "source": [
    "#Exercise 3.11  p. 40 (VARIATION)\n",
    "\n",
    "hours=input('Enter Hours\\n')\n",
    "try:\n",
    "    int_hours=int(hours)\n",
    "    rate=input('Enter Rate\\n')\n",
    "    try:\n",
    "        int_rate=int(rate)\n",
    "    except:\n",
    "        print('Please enter numeric input')\n",
    "except:\n",
    "    print('Please enter numeric input')"
   ]
  },
  {
   "cell_type": "code",
   "execution_count": null,
   "metadata": {},
   "outputs": [],
   "source": [
    "# Exercise 3 p. 41\n",
    "\n",
    "input_score=input('What is the score?\\n')\n",
    "try:\n",
    "    score=float(input_score)\n",
    "    if score >= 0.0 and score <= 1.0:\n",
    "        if score >= 0.9 and score <= 1.0:\n",
    "            print('A')\n",
    "        else:\n",
    "            if score >= 0.8 and score <= 0.9:\n",
    "                print('B')\n",
    "            else:\n",
    "                if score >= 0.7 and score <= 0.8:\n",
    "                    print('C')\n",
    "                else:\n",
    "                    if score >= 0.6 and score <= 0.7:\n",
    "                        print('D')\n",
    "                    else:\n",
    "                        if score < 0.6:\n",
    "                            print('F')\n",
    "    else:\n",
    "        print('Bad score (wrong number)')\n",
    "except:\n",
    "    print('Bad score (enter number)')"
   ]
  },
  {
   "cell_type": "code",
   "execution_count": null,
   "metadata": {},
   "outputs": [],
   "source": [
    "#p.49 Exercise 2\n",
    "\n",
    "repeat_lyrics()\n",
    "\n",
    "def print_lyrics():\n",
    "    print(\"I'm a lumberjack, and I'm okay.\")\n",
    "    print(\"I sleep all night and I work all day.\")\n",
    "    \n",
    "def repeat_lyrics():\n",
    "    print_lyrics()\n",
    "    print_lyrics()"
   ]
  },
  {
   "cell_type": "code",
   "execution_count": null,
   "metadata": {},
   "outputs": [],
   "source": [
    "#p.49 Exercise 3\n",
    "   \n",
    "def repeat_lyrics():\n",
    "    print_lyrics()\n",
    "    print_lyrics()\n",
    "    \n",
    "def print_lyrics():\n",
    "    print(\"I'm a lumberjack, and I'm okay.\")\n",
    "    print(\"I sleep all night and I work all day.\")\n",
    "    \n",
    "repeat_lyrics()"
   ]
  },
  {
   "cell_type": "code",
   "execution_count": null,
   "metadata": {},
   "outputs": [],
   "source": [
    "#p.50\n",
    "\n",
    "def print_twice(bla):\n",
    "    print(bla)\n",
    "    print(bla)\n",
    "\n",
    "print_twice(\"bla\")"
   ]
  },
  {
   "cell_type": "code",
   "execution_count": null,
   "metadata": {},
   "outputs": [],
   "source": [
    "#p.50\n",
    "\n",
    "def print_twice(bla):\n",
    "    print(bla)\n",
    "    print(bla)\n",
    "\n",
    "print_twice(17)"
   ]
  },
  {
   "cell_type": "code",
   "execution_count": 3,
   "metadata": {},
   "outputs": [
    {
     "name": "stdout",
     "output_type": "stream",
     "text": [
      "17\n",
      "17\n",
      "3.141592653589793\n",
      "3.141592653589793\n",
      "Spam Spam Spam Spam \n",
      "Spam Spam Spam Spam \n",
      "-1.0\n",
      "-1.0\n"
     ]
    }
   ],
   "source": [
    "#p.50\n",
    "\n",
    "import math\n",
    "\n",
    "def print_twice(bla):\n",
    "    print(bla)\n",
    "    print(bla)\n",
    "    \n",
    "print_twice(17)\n",
    "print_twice(math.pi)\n",
    "print_twice('Spam '*4)\n",
    "print_twice(math.cos(math.pi))"
   ]
  },
  {
   "cell_type": "code",
   "execution_count": 4,
   "metadata": {},
   "outputs": [
    {
     "name": "stdout",
     "output_type": "stream",
     "text": [
      "Eric, the half a bee\n",
      "Eric, the half a bee\n"
     ]
    }
   ],
   "source": [
    "#p.50\n",
    "\n",
    "michael ='Eric, the half a bee'\n",
    "print_twice(michael)"
   ]
  },
  {
   "cell_type": "code",
   "execution_count": 7,
   "metadata": {},
   "outputs": [
    {
     "name": "stdout",
     "output_type": "stream",
     "text": [
      "1.618033988749895\n"
     ]
    }
   ],
   "source": [
    "# p.51\n",
    "\n",
    "golden = (math.sqrt(5) + 1) / 2\n",
    "print(golden)"
   ]
  },
  {
   "cell_type": "code",
   "execution_count": 8,
   "metadata": {},
   "outputs": [
    {
     "data": {
      "text/plain": [
       "2.23606797749979"
      ]
     },
     "execution_count": 8,
     "metadata": {},
     "output_type": "execute_result"
    }
   ],
   "source": [
    "math.sqrt(5)"
   ]
  },
  {
   "cell_type": "code",
   "execution_count": null,
   "metadata": {},
   "outputs": [],
   "source": [
    "#p.51\n",
    "\n",
    "result = print_twice('Bing')\n",
    "print(result)"
   ]
  },
  {
   "cell_type": "code",
   "execution_count": null,
   "metadata": {},
   "outputs": [],
   "source": [
    "#p.52\n",
    "\n",
    "def addtwo(e, y):\n",
    "    added = e + y\n",
    "    return added\n",
    "\n",
    "x = addtwo (3, 5)\n",
    "print(x)"
   ]
  },
  {
   "cell_type": "code",
   "execution_count": null,
   "metadata": {
    "scrolled": true
   },
   "outputs": [],
   "source": [
    "# Exercise 6 p. 55\n",
    "\n",
    "def computepay():\n",
    "    try:\n",
    "        hours = int(input(\"How many hours did you work?\"))\n",
    "        rate = 10\n",
    "        if hours > 40:\n",
    "            extrahours=hours-40\n",
    "            extrapay=int(extrahours)*(rate*1.5)\n",
    "            normalpay=rate*40\n",
    "            pay=normalpay+extrapay\n",
    "            print(\"Your pay is:\\n\", pay,'€')\n",
    "\n",
    "        else:\n",
    "            pay=hours*rate\n",
    "            print(\"Your pay is:\\n\", pay,'€')\n",
    "    except:\n",
    "        print('Please enter numeric input')\n",
    "    \n",
    "computepay() "
   ]
  },
  {
   "cell_type": "code",
   "execution_count": null,
   "metadata": {},
   "outputs": [],
   "source": [
    "# Exercise 7 p. 55\n",
    "\n",
    "def computergrade():\n",
    "    input_score=input('What is the score?\\n')\n",
    "    try:\n",
    "        score=float(input_score)\n",
    "        if score >= 0.0 and score <= 1.0:\n",
    "            if score >= 0.9 and score <= 1.0:\n",
    "                print('A')\n",
    "            if score >= 0.8 and score < 0.9:\n",
    "                print('B')\n",
    "            if score >= 0.7 and score < 0.8:\n",
    "                print('C')\n",
    "            if score >= 0.6 and score < 0.7:\n",
    "                print('D')\n",
    "            if score < 0.6:\n",
    "                print('F')\n",
    "        else:\n",
    "            print('Bad score (wrong number)')\n",
    "    except:\n",
    "        print('Bad score (enter number)')\n",
    "        \n",
    "computergrade()"
   ]
  },
  {
   "cell_type": "code",
   "execution_count": null,
   "metadata": {},
   "outputs": [],
   "source": [
    "# p. 58\n",
    "\n",
    "n = 5\n",
    "while n > 0:\n",
    "    print(n)\n",
    "    n = n -1\n",
    "print('Blastoff!')"
   ]
  },
  {
   "cell_type": "code",
   "execution_count": null,
   "metadata": {},
   "outputs": [],
   "source": [
    "# p.59\n",
    "\n",
    "n = 1\n",
    "while True: \n",
    "    print(n)\n",
    "    n=n-1\n",
    "print(\"Done!\")"
   ]
  },
  {
   "cell_type": "code",
   "execution_count": null,
   "metadata": {},
   "outputs": [],
   "source": [
    "#p. 59\n",
    "\n",
    "while True:\n",
    "    line = input('> ')\n",
    "    if line == 'done':\n",
    "        break\n",
    "    print(line)\n",
    "print('Done!')"
   ]
  },
  {
   "cell_type": "code",
   "execution_count": 9,
   "metadata": {},
   "outputs": [
    {
     "name": "stdout",
     "output_type": "stream",
     "text": [
      "> yjg\n",
      "yjg\n",
      "> 0\n",
      "0\n",
      "> done\n",
      "Done!\n"
     ]
    }
   ],
   "source": [
    "#p. 60\n",
    "\n",
    "while True:\n",
    "    line = input('> ')\n",
    "    if line[0] == '#': continue             \n",
    "    if line == 'done': break\n",
    "    print(line)\n",
    "print('Done!')"
   ]
  },
  {
   "cell_type": "code",
   "execution_count": null,
   "metadata": {},
   "outputs": [],
   "source": [
    "#p. 60\n",
    "\n",
    "friends = ['Joseph', 'Glenn', 'Sally']\n",
    "for friend in friends:\n",
    "    print('Happy New Year:', friend)\n",
    "print('Done!')"
   ]
  },
  {
   "cell_type": "code",
   "execution_count": null,
   "metadata": {},
   "outputs": [],
   "source": [
    "#p.62\n",
    "\n",
    "count = 0\n",
    "for itervar in [3, 41, 12, 9, 74, 15]:\n",
    "    count = count + 1\n",
    "print('Count: ', count)"
   ]
  },
  {
   "cell_type": "code",
   "execution_count": null,
   "metadata": {},
   "outputs": [],
   "source": [
    "#p.62\n",
    "\n",
    "total = 0\n",
    "for itervar in [3, 41, 12, 9, 74, 15]:\n",
    "    total = total + itervar\n",
    "print('Total: ', total)"
   ]
  },
  {
   "cell_type": "code",
   "execution_count": null,
   "metadata": {},
   "outputs": [],
   "source": [
    "# p. 62\n",
    "largest = None                                \n",
    "print(\"Before:\", largest)\n",
    "for itervar in [3, 41, 12, 9, 74, 15]:\n",
    "    if largest is None or itervar > largest :\n",
    "        largest = itervar\n",
    "    print('Loop:', itervar, largest)\n",
    "print(\"Largest:\", largest)"
   ]
  },
  {
   "cell_type": "code",
   "execution_count": null,
   "metadata": {},
   "outputs": [],
   "source": [
    "# p. 63\n",
    "smallest = None                                \n",
    "print(\"Before:\", smallest)\n",
    "for itervar in [3, 41, 12, 9, 74, 15]:\n",
    "    if smallest is None or itervar < smallest :\n",
    "        smallest = itervar\n",
    "    print('Loop:', itervar, smallest)\n",
    "print(\"Largest:\", smallest)"
   ]
  },
  {
   "cell_type": "code",
   "execution_count": null,
   "metadata": {},
   "outputs": [],
   "source": [
    "thislist = [\"apple\", \"banana\", \"cherry\"]\n",
    "thislist.append(\"orange\")\n",
    "print(thislist)"
   ]
  },
  {
   "cell_type": "code",
   "execution_count": null,
   "metadata": {},
   "outputs": [],
   "source": [
    "films = [\"Star Wars\", \"Lord of the Rings\", \"Shawshank Redemption\", \"God father\"]\n",
    "\n",
    "add = input(\"Please enter a film: \")\n",
    "if add not in films: films.append(add)\n",
    "print (films)"
   ]
  },
  {
   "cell_type": "code",
   "execution_count": null,
   "metadata": {},
   "outputs": [],
   "source": [
    "#Exercise 5.10 Exercise 1 p.65\n",
    "\n",
    "count = 0                   \n",
    "total = 0\n",
    "while True:\n",
    "    number=input(\"Enter a number: \")\n",
    "    try:\n",
    "        number = int(number)\n",
    "        count = count + 1               \n",
    "        total=total+number\n",
    "        average=total/count\n",
    "    except:\n",
    "        if number == 'done':\n",
    "            print(total, count, average)\n",
    "            break\n",
    "        else: \n",
    "            print(\"Invalid input\")"
   ]
  },
  {
   "cell_type": "code",
   "execution_count": null,
   "metadata": {},
   "outputs": [],
   "source": [
    "# 5.10 Exercise 2 p.65\n",
    "\n",
    "count = 0                                \n",
    "number_list=[]                           \n",
    "total=0\n",
    "while True:\n",
    "    try:\n",
    "        number=input(\"Enter a number: \")\n",
    "        number = int(number)\n",
    "        count = count + 1                \n",
    "        total=total+number\n",
    "    except:\n",
    "        if number == 'done':\n",
    "            maxi=max(number_list)\n",
    "            mini=min(number_list)\n",
    "            print(total, count, maxi, mini)\n",
    "            break\n",
    "        else: \n",
    "            print(\"Invalid input\")"
   ]
  },
  {
   "cell_type": "code",
   "execution_count": null,
   "metadata": {
    "scrolled": true
   },
   "outputs": [],
   "source": [
    "\"\"\"\n",
    "6.4. STRING SLICES p. 69\n",
    "Exercise 1: Write a while loop that starts at the last character in the string and\n",
    "works its way backwards to the first character in the string, printing each letter on\n",
    "a separate line, except backwards.\n",
    "\"\"\"\n",
    "\n",
    "string=input(\"Write a word:\\n\")     \n",
    "length=len(string)                  \n",
    "index = length - 1                  \n",
    "                                    \n",
    "while index >= 0:\n",
    "    letter_to_print=string[index]     \n",
    "    print(letter_to_print)\n",
    "    index=index-1"
   ]
  },
  {
   "cell_type": "code",
   "execution_count": null,
   "metadata": {},
   "outputs": [],
   "source": [
    "# 6.4. STRING SLICES p. 69\n",
    "# Alternative solution\n",
    "\n",
    "string=\"azerty\"    \n",
    "length=len(string)  \n",
    "index = -1\n",
    "nbre_boucles = 0\n",
    "while nbre_boucles < length:\n",
    "    print(string[index])\n",
    "    index=index-1\n",
    "    nbre_boucles = nbre_boucles + 1"
   ]
  },
  {
   "cell_type": "code",
   "execution_count": null,
   "metadata": {
    "scrolled": true
   },
   "outputs": [],
   "source": [
    "\"\"\"6.4. STRING SLICES p. 69\n",
    "Solution plus simple\"\"\"\n",
    "\n",
    "fruit = 'banana'\n",
    "index = 0\n",
    "letter = -1\n",
    "while index<len(fruit):\n",
    "    index=index + 1\n",
    "    print(fruit[letter])\n",
    "    letter=letter-1"
   ]
  },
  {
   "cell_type": "code",
   "execution_count": null,
   "metadata": {},
   "outputs": [],
   "source": [
    "\"\"\"\n",
    "p. 70 Exercise 3:\n",
    "Encapsulate this code in a function named count, and generalize it so that it\n",
    "accepts the string and the letter as arguments.\n",
    "\"\"\"\n",
    "\n",
    "def count():\n",
    "    word = input(\"Word? \")\n",
    "    letter = input(\"Letter? \")\n",
    "    count = 0\n",
    "    for x in word:\n",
    "        if x == letter:\n",
    "            count = count + 1\n",
    "    print(count)\n",
    "count()"
   ]
  },
  {
   "cell_type": "code",
   "execution_count": null,
   "metadata": {},
   "outputs": [],
   "source": [
    "\"\"\"p.74 Exercise 4:\n",
    "There is a string method called count that is similar to the function\n",
    "in the previous exercise. Read the documentation of this method at\n",
    "https://docs.python.org/3.5/library/stdtypes.html#string-methods and write an\n",
    "invocation that counts the number of times the letter a occurs in “banana”.\"\"\"\n",
    "\"\"\"s.count(x)\ttotal number of occurrences of x in s\"\"\"\n",
    "\n",
    "word = \"banana\"\n",
    "number_of_a = word.count(\"a\")\n",
    "print(number_of_a)\n"
   ]
  },
  {
   "cell_type": "code",
   "execution_count": null,
   "metadata": {},
   "outputs": [],
   "source": [
    "\"\"\"\n",
    "p. 78 6.14 Exercises\n",
    "Exercise 5: Take the following Python code that stores a string:‘\n",
    "str = ’X-DSPAM-Confidence:0.8475’\n",
    "Use find and string slicing to extract the portion of the string after the colon\n",
    "character and then use the float function to convert the extracted string into a\n",
    "floating point number.\n",
    "\"\"\"\n",
    "string = \"X-DSPAM-Confidence:0.8475\"\n",
    "pos = string.find(\"0\")\n",
    "nombre = string[pos:]\n",
    "print(nombre)"
   ]
  },
  {
   "cell_type": "code",
   "execution_count": null,
   "metadata": {},
   "outputs": [],
   "source": [
    "\"\"\"\n",
    "p. 78 6.14 Exercises\n",
    "Exercise 5: Take the following Python code that stores a string:‘\n",
    "str = ’X-DSPAM-Confidence:0.8475’\n",
    "Use find and string slicing to extract the portion of the string after the colon\n",
    "character and then use the float function to convert the extracted string into a\n",
    "floating point number.\n",
    "\"\"\"\n",
    "\n",
    "string = \"X-DSPAM-Confidence:0.8475\"\n",
    "colon=string.find(\":\")\n",
    "portion=string[colon+1:]\n",
    "floated=float(portion)\n",
    "print(floated)"
   ]
  },
  {
   "cell_type": "code",
   "execution_count": null,
   "metadata": {},
   "outputs": [],
   "source": [
    "\"\"\"\n",
    "p. 78 6.14 Exercises\n",
    "Exercise 6:\n",
    "Read the documentation of the string methods at\n",
    "https://docs.python.org/3.5/library/stdtypes.html#string-methods\n",
    "You might want to experiment with some of them to make sure you understand\n",
    "how they work. strip and replace are particularly useful.\n",
    "The documentation uses a syntax that might be confusing. For example, in\n",
    "find(sub[, start[, end]]), the brackets indicate optional arguments. So sub\n",
    "is required, but start is optional, and if you include start, then end is optional.\"\"\"\n",
    "\n",
    "\"\"\"With strip\"\"\"\n",
    "\n",
    "string=str('X-DSPAM-Confidence:0.8475')\n",
    "result=string.strip('-XDP57')\n",
    "print(\"Result1 for strip: \",result)\n",
    "result2=string.strip('X-PD75')\n",
    "print(\"Result2 for strip: \",result2)\n",
    "result3=string.strip('MXn4ece7')\n",
    "print(\"Result3 for strip: \",result3)\n",
    "\n",
    "\n",
    "\"\"\"With replace\"\"\"\n",
    "\n",
    "replacement1=string.replace('X-DSPAM', 'Hoho')\n",
    "\n",
    "replacement2=string.replace('e', 'E', 0)\n",
    "\n",
    "replacement3=string.replace('e', 'E', 1) \n",
    "\n",
    "replacement4=string.replace(\"X-DSPAM-\", '*_') \n",
    "replacement4=replacement4.replace(\":0.8475\", '_float') \n",
    "replacement4=replacement4.replace('e', 'E', 2) \n",
    "\n",
    "print(\"Replacement1: \",replacement1)\n",
    "print(\"Replacement2: \",replacement2)\n",
    "print(\"Replacement3: \",replacement3)\n",
    "print(\"Replacement4: \",replacement4)\n",
    "\n"
   ]
  },
  {
   "cell_type": "code",
   "execution_count": null,
   "metadata": {},
   "outputs": [],
   "source": [
    "\"\"\"p. 98 / 7.11 Exercises\n",
    "Exercise 1: Write a program to read through a file and print the contents of the\n",
    "file (line by line) all in upper case. Executing the program will look as follows:\n",
    "python shout.py\n",
    "Enter a file name: mbox-short.txt\n",
    "FROM STEPHEN.MARQUARD@UCT.AC.ZA SAT JAN 5 09:14:16 2008\n",
    "RETURN-PATH: <POSTMASTER@COLLAB.SAKAIPROJECT.ORG>\n",
    "RECEIVED: FROM MURDER (MAIL.UMICH.EDU [141.211.14.90])\n",
    "    BY FRANKENSTEIN.MAIL.UMICH.EDU (CYRUS V2.3.8) WITH LMTPA;\n",
    "    SAT, 05 JAN 2008 09:14:16 -0500\n",
    "You can download the file from www.py4e.com/code3/mbox-short.txt\"\"\"\n",
    "\n",
    "#Créer le fichier shout.py\n",
    "#file=open('shout.py', 'w')\n",
    "fname = input(\"Enter a file name (mbox-short.txt): \\n\")\n",
    "fhand = open(fname)\n",
    "try:\n",
    "    answer=='mbox-short.txt'\n",
    "    for line in fhand:\n",
    "        line = line.rstrip() \n",
    "        line=line.upper() \n",
    "        print(line)\n",
    "except:\n",
    "    print(\"This is not the file you're supposed to open...\\nThink again.\")"
   ]
  },
  {
   "cell_type": "code",
   "execution_count": null,
   "metadata": {},
   "outputs": [],
   "source": [
    "\"\"\"p.89 Exercise 2: \n",
    "Write a program to prompt for a file name, and then read through the\n",
    "file and look for lines of the form:\n",
    "X-DSPAM-Confidence:0.8475\n",
    "When you encounter a line that starts with “X-DSPAM-Confidence:” pull apart\n",
    "the line to extract the floating-point number on the line. Count these lines and\n",
    "then compute the total of the spam confidence values from these lines. When you\n",
    "reach the end of the file, print out the average spam confidence.\n",
    "Enter the file name: mbox.txt\n",
    "Average spam confidence: 0.894128046745       \n",
    "Enter the file name: mbox-short.txt\n",
    "Average spam confidence: 0.750718518519       \n",
    "Test your file on the mbox.txt and mbox-short.txt files.\"\"\"\n",
    "\n",
    "file=input('Enter a file name (mbox-short.txt or mbox.txt):\\n')\n",
    "text=open(file)\n",
    "count=0\n",
    "totaloffloats=0\n",
    "for line in text:\n",
    "    line=line.rstrip()                 \n",
    "    if line.startswith(\"X-DSPAM-Confidence\"):\n",
    "        count=count+1\n",
    "        length=len(\"X-DSPAM-Confidence\")\n",
    "        floatnumbers=line[length+1:]\n",
    "        floatnumbers=float(floatnumbers)\n",
    "        totaloffloats=totaloffloats+floatnumbers\n",
    "\n",
    "average_spam_confidence=totaloffloats/count\n",
    "print(\"Number of float numbers:\", count)\n",
    "print(\"Total of float numbers:\", totaloffloats)\n",
    "print(\"Average spam confidence:\", average_spam_confidence)\n",
    "\n"
   ]
  },
  {
   "cell_type": "code",
   "execution_count": null,
   "metadata": {},
   "outputs": [],
   "source": [
    "\"\"\"p.89 7.11.  \n",
    "Exercise 3: Sometimes when programmers get bored or want to have a bit of fun,\n",
    "they add a harmless Easter Egg to their program Modify the program that prompts\n",
    "the user for the file name so that it prints a funny message when the user types in\n",
    "the exact file name “na na boo boo”. The program should behave normally for all\n",
    "other files which exist and don’t exist. Here is a sample execution of the program:\n",
    "python egg.py\n",
    "Enter the file name: mbox.txt\n",
    "There were 1797 subject lines in mbox.txt\n",
    "python egg.py\n",
    "Enter the file name: missing.tyxt\n",
    "File cannot be opened: missing.tyxt\n",
    "python egg.py\n",
    "Enter the file name: na na boo boo\n",
    "NA NA BOO BOO TO YOU - You have been punk'd!\n",
    "We are not encouraging you to put Easter Eggs in your programs; this is just an\n",
    "exercise.\"\"\"\n",
    "\n",
    "\n",
    "file=input(\"Enter the name 'mbox.txt', ['missing.tyxt' or 'na na boo boo']:\")\n",
    "count=0\n",
    "if file==\"mbox.txt\" or file==\"na na boo boo\":\n",
    "    if file==\"mbox.txt\":\n",
    "        file=open(file)\n",
    "        for line in file:\n",
    "            if line.startswith(\"Subject\"):\n",
    "                count=count+1\n",
    "        print(\"There were\", count, \"subject lines in mbox.txt\")\n",
    "    if file==\"na na boo boo\":\n",
    "        print(\"NA NA BOO BOO TO YOU - You have been punk'd!\")\n",
    "else:\n",
    "    print(\"File cannot be opened:\", file)"
   ]
  }
 ],
 "metadata": {
  "celltoolbar": "Format de la Cellule Texte Brut",
  "kernelspec": {
   "display_name": "Python 3 (ipykernel)",
   "language": "python",
   "name": "python3"
  },
  "language_info": {
   "codemirror_mode": {
    "name": "ipython",
    "version": 3
   },
   "file_extension": ".py",
   "mimetype": "text/x-python",
   "name": "python",
   "nbconvert_exporter": "python",
   "pygments_lexer": "ipython3",
   "version": "3.9.12"
  }
 },
 "nbformat": 4,
 "nbformat_minor": 4
}
